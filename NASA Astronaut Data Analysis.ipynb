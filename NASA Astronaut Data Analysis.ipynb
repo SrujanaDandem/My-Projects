{
 "cells": [
  {
   "cell_type": "markdown",
   "metadata": {},
   "source": [
    "# **Unveiling the Stars: An Exploratory Study on NASA Astronauts**\n",
    "\n",
    "The exploration of NASA astronauts, a venture steeped in the allure of space exploration and human achievement, delves into a rich tapestry of individual stories and collective triumphs. While the stars above have always beckoned to humanity's sense of wonder, it is the individuals who have ventured beyond our atmosphere that make these dreams a reality.\n",
    "\n",
    "In the realm of space exploration, talent, education, and diverse backgrounds are paramount. Every astronaut who has embarked on a journey to the cosmos is a testament to years of unwavering commitment and relentless pursuit of knowledge. Their experiences are as varied as the constellations in the night sky, with each astronaut bringing their unique set of skills, education, and expertise to the NASA family.\n",
    "\n",
    "Yet, in the world of space exploration, it's not just about the individuals themselves; it's also about understanding the collective achievements and trends of NASA's astronaut corps. This is where a deep analysis of the provided dataset becomes pivotal.\n",
    "\n",
    "And this is where you come in.\n",
    "\n",
    "As an integral part of the team tasked with exploring this treasure trove of astronaut data, your role is crucial. You are the data virtuoso, the one who can transform raw information into meaningful insights that illuminate the demographics, careers, and accomplishments of NASA astronauts.\n",
    "\n",
    "Using the latest tools and techniques in data analysis, you dissect the dataset, scrutinizing astronauts' backgrounds, experiences, and missions. You uncover patterns and trends that reveal the diverse tapestry of NASA's astronaut corps, from their educational journeys to their military service and their remarkable achievements in space.\n",
    "\n",
    "As the project progresses, the excitement builds, and the knowledge you uncover becomes a source of inspiration. Researchers, space enthusiasts, and dreamers may not see the meticulous work behind the scenes, but they feel its impact in every chart, graph, and revelation.\n",
    "\n",
    "In the world of astronaut analysis, you are the unsung hero, the one who helps unveil the extraordinary stories of those who have touched the stars. Your dedication to data and your ability to transform it into illuminating insights contribute to the ongoing saga of human exploration, making every astronaut's journey that much more extraordinary."
   ]
  },
  {
   "cell_type": "markdown",
   "metadata": {},
   "source": [
    "## **Module 1**\n",
    "\n",
    "### **Task 1: Exploring NASA's Data Universe**\n",
    "\n",
    "Our analysis of NASA's dataset is a mission to unveil profound insights within the realm of space exploration. Beyond mere data analysis, it's a journey to harness the knowledge hidden in the stars. Through this exploration, we aim to uncover patterns that will guide future missions, enhancing NASA's cosmic endeavors. Every data point is a piece of the cosmic puzzle, fueling innovation and inspiring generations to reach for the stars. In these numbers and statistics, we find the roadmap to the next frontier of human exploration."
   ]
  },
  {
   "cell_type": "code",
   "execution_count": null,
   "metadata": {},
   "outputs": [],
   "source": [
    "pip install -U ipykernel"
   ]
  },
  {
   "cell_type": "code",
   "execution_count": null,
   "metadata": {},
   "outputs": [],
   "source": [
    "pip install pandas"
   ]
  },
  {
   "cell_type": "code",
   "execution_count": null,
   "metadata": {},
   "outputs": [],
   "source": [
    "pip install mysql-connector"
   ]
  },
  {
   "cell_type": "code",
   "execution_count": null,
   "metadata": {},
   "outputs": [],
   "source": [
    "#--- Import Pandas ---\n",
    "import pandas as pd\n",
    "\n",
    "#--- Read in dataset ----\n",
    "fname = \"nasa.csv\"\n",
    "df = pd.read_csv(fname)\n",
    "df"
   ]
  },
  {
   "cell_type": "markdown",
   "metadata": {},
   "source": [
    "### **Task 2: Exploring Data Completeness**\n",
    "\n",
    "In the midst of your data exploration, armed with the NASA astronaut dataset, you've arrived at a crucial juncture. You're now delving into the realm of data quality, seeking to understand the integrity of the information you're working with. With a few lines of code, you've calculated the number of missing values for each column in the dataset, and the results are illuminating."
   ]
  },
  {
   "cell_type": "code",
   "execution_count": null,
   "metadata": {},
   "outputs": [],
   "source": [
    "marked_null_values = df.isnull().astype(int)\n",
    "null_values = marked_null_values.sum()\n",
    "print(null_values)"
   ]
  },
  {
   "cell_type": "markdown",
   "metadata": {},
   "source": [
    "### **Task 3: Data Refinement for NASA Astronaut Data**\n",
    "\n",
    "In your ongoing journey through the NASA astronaut dataset, you've embarked on a quest for data integrity and precision. The code you've executed represents a pivotal moment in this endeavor, where you're not just analyzing data but also sculpting it to reveal the true narrative of these space pioneers."
   ]
  },
  {
   "cell_type": "code",
   "execution_count": null,
   "metadata": {},
   "outputs": [],
   "source": [
    "df.dropna(subset=['Alma_Mater'], inplace = True)\n",
    "\n",
    "filtered_indices = df[(df['Death_Mission'].isnull()) & (~df['Death_Date'].isnull())].index\n",
    "df.drop(filtered_indices, inplace=True)\n",
    "\n",
    "df['Birth_Date'] = pd.to_datetime(df['Birth_Date'], dayfirst=True)\n",
    "df['Death_Date'] = pd.to_datetime(df['Death_Date'], dayfirst=True)\n",
    "\n",
    "#df['Birth_Date'] = df['Birth_Date'].dt.strftime('%Y-%m-%d')\n",
    "#df['Death_Date'] = df['Death_Date'].dt.strftime('%Y-%m-%d')"
   ]
  },
  {
   "cell_type": "markdown",
   "metadata": {},
   "source": [
    "### **Task 4: Preparing Data for SQL Analysis**\n",
    "\n",
    "In the midst of your data journey through the NASA astronaut dataset, you've arrived at a crucial juncture where your focus shifts to data export and preparation for a new phase in your analysis.\n",
    "\n",
    "The destination is clear: a CSV file named 'astronauts.csv' that will serve as the foundation for your SQL exploration. This export step ensures that the data you've curated and cleaned is ready to be loaded into a relational database, where you can perform more intricate queries and derive deeper insights."
   ]
  },
  {
   "cell_type": "code",
   "execution_count": null,
   "metadata": {},
   "outputs": [],
   "source": [
    "#export the cleaned data\n",
    "df.to_csv('astronauts.csv', index=False)"
   ]
  },
  {
   "cell_type": "markdown",
   "metadata": {},
   "source": [
    "### **Task 5: Data Download, Import, and Database Connection**"
   ]
  },
  {
   "cell_type": "code",
   "execution_count": null,
   "metadata": {
    "vscode": {
     "languageId": "sql"
    }
   },
   "outputs": [],
   "source": [
    "# -- Load the sql extention ----\n",
    "%reload_ext sql\n",
    "\n",
    "# --- Load your mysql db using credentials from the \"DB\" area ---\n",
    "%sql mysql+pymysql://<user>:<password>@localhost/<db_name>\n"
   ]
  },
  {
   "cell_type": "markdown",
   "metadata": {},
   "source": [
    "## **Module 2**\n",
    "\n",
    "### **Task 1: Journeying Through Astronaut Profiles**\n",
    "\n",
    "We embark on an interstellar adventure, peering into the captivating lives of NASA's space explorers. Each line of code unveils tales of cosmic bravery, where data becomes the canvas for astronauts' remarkable journeys.\n",
    "\n",
    "As we execute this query, we're driven by the desire to inspire, inform, and honor their journeys. Each row of data represents a chapter in the grand story of space exploration, and by querying it, we're paying homage to their remarkable endeavors. We're doing this query to shed light on the heroes of the cosmic frontier and to share their awe-inspiring narratives with the world."
   ]
  },
  {
   "cell_type": "code",
   "execution_count": null,
   "metadata": {
    "vscode": {
     "languageId": "sql"
    }
   },
   "outputs": [],
   "source": [
    "%%sql\n",
    "\n",
    "SELECT * \n",
    "FROM astronauts;"
   ]
  },
  {
   "cell_type": "markdown",
   "metadata": {},
   "source": [
    "### **Task 2: Astronaut Status: Counting the Cosmic Pioneers**\n",
    "\n",
    "In the dim glow of computer screens, we embark on a journey to distill insights from data, transforming numbers into meaningful narratives. Our mission is to honor the dedication and diversity of cosmic pioneers, celebrating their contributions to humanity's quest for the stars.\n",
    "\n",
    "We embark on this journey to distill insights from data, transforming numbers into meaningful narratives. The query groups astronauts by their status, revealing the dynamic tapestry of their careers - active, retired, or otherwise."
   ]
  },
  {
   "cell_type": "code",
   "execution_count": null,
   "metadata": {
    "vscode": {
     "languageId": "sql"
    }
   },
   "outputs": [],
   "source": [
    "%%sql\n",
    "\n",
    "SELECT Status, COUNT(*) AS Number\n",
    "FROM astronauts\n",
    "GROUP BY Status;"
   ]
  },
  {
   "cell_type": "markdown",
   "metadata": {},
   "source": [
    "### **Task 3: Exploring Astronauts' Military Branch Diversity**\n",
    "\n",
    "In the soft glow of computer screens, we continue our exploration of the astronaut dataset, our journey of honoring cosmic pioneers and uncovering the stories that connect them to the stars.\n",
    "\n",
    "Our previous queries have illuminated the dynamic careers and diverse backgrounds of these space heroes. Now, we turn our attention to their military branches, a vital chapter in their incredible journeys."
   ]
  },
  {
   "cell_type": "code",
   "execution_count": null,
   "metadata": {
    "vscode": {
     "languageId": "sql"
    }
   },
   "outputs": [],
   "source": [
    "%%sql\n",
    "\n",
    "SELECT Military_Branch, COUNT(*) AS Number\n",
    "FROM astronauts\n",
    "GROUP BY Military_Branch;"
   ]
  },
  {
   "cell_type": "markdown",
   "metadata": {},
   "source": [
    "### **Task 4: Top Military Ranks Among Astronauts**\n",
    "\n",
    "In the soft glow of computer screens, our cosmic journey through the astronaut dataset continues to unfold. Building upon our exploration of their military backgrounds, we now delve into the ranks that these celestial trailblazers once held in their respective armed forces."
   ]
  },
  {
   "cell_type": "code",
   "execution_count": null,
   "metadata": {
    "vscode": {
     "languageId": "sql"
    }
   },
   "outputs": [],
   "source": [
    "%%sql\n",
    "\n",
    "SELECT Military_Rank, COUNT(*) AS Number\n",
    "FROM astronauts\n",
    "GROUP BY Military_Rank\n",
    "ORDER BY Number DESC\n",
    "LIMIT 5;"
   ]
  },
  {
   "cell_type": "markdown",
   "metadata": {},
   "source": [
    "### **Task 5: Exploring Astronaut Demographics: Gender Insights**\n",
    "\n",
    "Our cosmic journey through the astronaut dataset takes another captivating turn. Building upon our exploration of their military backgrounds and ranks, we now shift our focus to a crucial aspect of their diverse profiles: gender."
   ]
  },
  {
   "cell_type": "code",
   "execution_count": null,
   "metadata": {
    "vscode": {
     "languageId": "sql"
    }
   },
   "outputs": [],
   "source": [
    "%%sql\n",
    "\n",
    "SELECT Gender, COUNT(*) AS Number\n",
    "FROM astronauts\n",
    "GROUP BY Gender;"
   ]
  },
  {
   "cell_type": "markdown",
   "metadata": {},
   "source": [
    "### **Task 6: Astronauts' Life Expectancy: A Cosmic Perspective**\n",
    "\n",
    "As our cosmic journey through the astronaut dataset continues, we embark on a quest to understand the human lifespan within the realm of space exploration. Our focus now turns to the astronauts' life expectancies, a reflection of the profound experiences and challenges they've encountered.\n",
    "\n",
    "In this exploration, we pay tribute to the resilience and courage of these cosmic pioneers. Each astronaut's life expectancy, whether achieved or anticipated, is a testament to the unwavering spirit that propels humanity beyond Earth's bounds."
   ]
  },
  {
   "cell_type": "code",
   "execution_count": null,
   "metadata": {
    "vscode": {
     "languageId": "sql"
    }
   },
   "outputs": [],
   "source": [
    "%%sql\n",
    "\n",
    "SELECT ROUND(AVG(life_Expectancy)) AS Average_Life_Expectancy\n",
    "FROM (\n",
    "    SELECT\n",
    "        CASE\n",
    "            WHEN Status = 'Deceased' THEN YEAR(Death_Date) - YEAR(Birth_Date)\n",
    "            ELSE 2023 - YEAR(Birth_Date)\n",
    "        END AS life_Expectancy\n",
    "    FROM astronauts\n",
    ") AS subquery;"
   ]
  },
  {
   "cell_type": "markdown",
   "metadata": {},
   "source": [
    "### **Task 7: Honoring Female Astronauts: Life Expectancy**\n",
    "\n",
    "In our ongoing journey through the astronaut dataset, we now shine a spotlight on a remarkable group of cosmic trailblazers—female astronauts. Their life expectancies, both achieved and anticipated, represent a testament to their extraordinary dedication and contribution to space exploration."
   ]
  },
  {
   "cell_type": "code",
   "execution_count": null,
   "metadata": {
    "vscode": {
     "languageId": "sql"
    }
   },
   "outputs": [],
   "source": [
    "%%sql\n",
    "\n",
    "SELECT ROUND(AVG(Female_life_Expectancy)) AS Female_Average_Life_Expectancy\n",
    "FROM (\n",
    "    SELECT\n",
    "        CASE\n",
    "            WHEN Status = 'Deceased' AND Gender = 'Female' THEN YEAR(DEATH_Date) - Year(Birth_Date)\n",
    "            WHEN Status != 'Deceased' AND Gender = 'Female' THEN 2023 - YEAR(Birth_Date)\n",
    "            #ELSE 2023 - YEAR(Birth_Date)\n",
    "        END AS Female_life_Expectancy\n",
    "    FROM astronauts\n",
    ") AS subquery;"
   ]
  },
  {
   "cell_type": "markdown",
   "metadata": {},
   "source": [
    "### **Task 8: Celebrating Male Astronauts: Life Expectancy**\n",
    "\n",
    "In our ongoing odyssey through the astronaut dataset, we now turn our attention to the remarkable group of male astronauts, who have left an indelible mark on the cosmos. The focus of our inquiry? Their life expectancies, a testament to their unyielding commitment and dedication to the exploration of space."
   ]
  },
  {
   "cell_type": "code",
   "execution_count": null,
   "metadata": {
    "vscode": {
     "languageId": "sql"
    }
   },
   "outputs": [],
   "source": [
    "%%sql\n",
    "\n",
    "SELECT ROUND(AVG(Male_life_Expectancy)) AS Male_Average_Life_Expectancy\n",
    "FROM (\n",
    "    SELECT\n",
    "        CASE\n",
    "            WHEN Status = 'Deceased' AND Gender = 'Male' THEN YEAR(DEATH_Date) - Year(Birth_Date)\n",
    "            WHEN Status != 'Deceased' AND Gender = 'Male' THEN 2023 - YEAR(Birth_Date)\n",
    "            #ELSE 2023 - YEAR(Birth_Date)\n",
    "        END AS Male_life_Expectancy\n",
    "    FROM astronauts\n",
    ") AS subquery;"
   ]
  },
  {
   "cell_type": "markdown",
   "metadata": {},
   "source": [
    "### **Task 9: Cosmic Scholars: Top Graduate Majors of Astronauts**\n",
    "\n",
    "As our cosmic exploration through the astronaut dataset unfolds, we turn our focus to the educational pathways of these cosmic adventurers. With a keen eye on their graduate majors, we aim to uncover the diverse academic foundations that have propelled them into the boundless realms of space.\n",
    "\n",
    "This forthcoming query, though a mere compilation of data, is a portal to a world of knowledge. It reveals the top ten graduate majors, offering a glimpse into the educational tapestry that makes up the astronaut corps."
   ]
  },
  {
   "cell_type": "code",
   "execution_count": null,
   "metadata": {
    "vscode": {
     "languageId": "sql"
    }
   },
   "outputs": [],
   "source": [
    "%%sql\n",
    "\n",
    "SELECT Graduate_Major, COUNT(*) AS Number\n",
    "FROM astronauts\n",
    "GROUP BY Graduate_Major\n",
    "ORDER BY Number DESC\n",
    "LIMIT 10;"
   ]
  },
  {
   "cell_type": "markdown",
   "metadata": {},
   "source": [
    "### **Task 10: Educational Odyssey: Astronauts and Their Degrees**\n",
    "\n",
    "In our continuous journey through the astronaut dataset, we are now casting a wide net to encompass the full educational spectrum of these cosmic pioneers. The query we have set in motion is a treasure trove of information, offering us a profound glimpse into the academic odysseys that have propelled astronauts to the stars.\n",
    "\n",
    "As we meticulously examine these numbers, we are not merely dealing with data points; we are delving into the very essence of these space heroes. The \"Number_of_Astronauts\" figure serves as a testament to the exclusive fellowship of cosmic explorers, those who have boldly transcended the boundaries of Earth."
   ]
  },
  {
   "cell_type": "code",
   "execution_count": null,
   "metadata": {
    "vscode": {
     "languageId": "sql"
    }
   },
   "outputs": [],
   "source": [
    "%%sql\n",
    "\n",
    "SELECT COUNT(*) AS Number_of_Astronauts, \n",
    "COUNT(Undergraduate_Major) AS Astronauts_with_Undergraduate_Degrees, \n",
    "COUNT(Graduate_Major) AS Astronauts_with_Graduate_Degrees\n",
    "FROM astronauts;\n"
   ]
  },
  {
   "cell_type": "markdown",
   "metadata": {},
   "source": [
    "### **Task 11: Astronaut Birthplaces: Launching from Earth's Diverse Cities**\n",
    "\n",
    "In our cosmic journey through the astronaut dataset, we now turn our gaze to the birthplaces of these intrepid space explorers. The query we've embarked upon, though a collection of data, is a portal to the origins of those who've ventured into the boundless cosmos.\n",
    "\n",
    "As we dissect the numbers, we're not just dealing with statistics; we're unraveling the geographic tapestry that contributes to the astronaut corps. The birth states that emerge as the top five hold within them the beginnings of remarkable journeys.\n",
    "\n",
    "Each city represents a unique chapter in the story of these cosmic pioneers. From bustling metropolises to quiet towns, these diverse origins reflect the universal aspiration to reach for the stars."
   ]
  },
  {
   "cell_type": "code",
   "execution_count": null,
   "metadata": {
    "vscode": {
     "languageId": "sql"
    }
   },
   "outputs": [],
   "source": [
    "%%sql\n",
    "\n",
    "SELECT SUBSTRING_INDEX(Birth_Place, ',', -1) AS STATE, COUNT(*) AS count\n",
    "FROM astronauts\n",
    "GROUP BY STATE\n",
    "ORDER BY(count) DESC\n",
    "LIMIT 5;"
   ]
  },
  {
   "cell_type": "markdown",
   "metadata": {},
   "source": [
    "### **Task 12: Voyages Beyond: Astronauts' Space Flights and Spacewalks**\n",
    "\n",
    "As our voyage through the astronaut dataset unfolds, we now set our sights on the extraordinary journeys that these cosmic pioneers have undertaken. The query we've embarked upon holds within it a wealth of experiences, a testament to the adventurous spirit of those who've ventured into the cosmos.\n",
    "\n",
    "Our calculations of the average number of space flights and spacewalks provide insight into the vast range of missions and activities these astronauts have undertaken. Each decimal point in the result represents another moment in space, another step taken in the weightlessness of the cosmos.\n",
    "\n",
    "These averages tell the story of dedication, training, and the relentless pursuit of scientific discovery and exploration. The numbers, though abstract, are a reflection of the countless hours of preparation and the courage required to journey beyond our planet."
   ]
  },
  {
   "cell_type": "code",
   "execution_count": null,
   "metadata": {
    "vscode": {
     "languageId": "sql"
    }
   },
   "outputs": [],
   "source": [
    "%%sql\n",
    "\n",
    "SELECT ROUND(AVG(Space_Flights),2) AS Average_Number_Of_Space_Flight, \n",
    "ROUND(AVG(Space_Walks),2) AS Average_Number_Of_Space_Walks\n",
    "FROM astronauts; "
   ]
  }
 ],
 "metadata": {
  "kernelspec": {
   "display_name": "Python 3",
   "language": "python",
   "name": "python3"
  },
  "language_info": {
   "codemirror_mode": {
    "name": "ipython",
    "version": 3
   },
   "file_extension": ".py",
   "mimetype": "text/x-python",
   "name": "python",
   "nbconvert_exporter": "python",
   "pygments_lexer": "ipython3",
   "version": "3.11.4"
  },
  "orig_nbformat": 4
 },
 "nbformat": 4,
 "nbformat_minor": 2
}
